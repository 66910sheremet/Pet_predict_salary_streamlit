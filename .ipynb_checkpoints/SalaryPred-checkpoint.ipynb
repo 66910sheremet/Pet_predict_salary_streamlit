{
 "cells": [
  {
   "cell_type": "code",
   "execution_count": 1,
   "id": "ba1d5238",
   "metadata": {},
   "outputs": [],
   "source": [
    "import pandas as pd\n",
    "import matplotlib.pyplot as plt\n",
    "\n",
    "df = pd.read_csv(r\"D:\\Projects\\MLSP\\stack-overflow-developer-survey-2023\\survey_results_public.csv\")"
   ]
  },
  {
   "cell_type": "code",
   "execution_count": 2,
   "id": "dcebbbf0",
   "metadata": {},
   "outputs": [],
   "source": [
    "df_1 = df[['Country','EdLevel','YearsCodePro', 'Employment', 'ConvertedCompYearly']]"
   ]
  },
  {
   "cell_type": "code",
   "execution_count": 3,
   "id": "2d323a08",
   "metadata": {},
   "outputs": [],
   "source": [
    "df_1 = df_1.rename({'ConvertedCompYearly':'Salary'}, axis=1)"
   ]
  },
  {
   "cell_type": "code",
   "execution_count": 4,
   "id": "dd3eb1b0",
   "metadata": {},
   "outputs": [],
   "source": [
    "df_1 = df_1[df_1['Salary'].notnull()]"
   ]
  },
  {
   "cell_type": "code",
   "execution_count": 5,
   "id": "83f2452a",
   "metadata": {},
   "outputs": [
    {
     "name": "stdout",
     "output_type": "stream",
     "text": [
      "<class 'pandas.core.frame.DataFrame'>\n",
      "Int64Index: 48019 entries, 1 to 89171\n",
      "Data columns (total 5 columns):\n",
      " #   Column        Non-Null Count  Dtype  \n",
      "---  ------        --------------  -----  \n",
      " 0   Country       48019 non-null  object \n",
      " 1   EdLevel       48019 non-null  object \n",
      " 2   YearsCodePro  47825 non-null  object \n",
      " 3   Employment    48007 non-null  object \n",
      " 4   Salary        48019 non-null  float64\n",
      "dtypes: float64(1), object(4)\n",
      "memory usage: 2.2+ MB\n"
     ]
    }
   ],
   "source": [
    "df_1.info()"
   ]
  },
  {
   "cell_type": "code",
   "execution_count": 6,
   "id": "dc05d6f8",
   "metadata": {
    "scrolled": true
   },
   "outputs": [
    {
     "data": {
      "text/plain": [
       "Country         0\n",
       "EdLevel         0\n",
       "YearsCodePro    0\n",
       "Employment      0\n",
       "Salary          0\n",
       "dtype: int64"
      ]
     },
     "execution_count": 6,
     "metadata": {},
     "output_type": "execute_result"
    }
   ],
   "source": [
    "df_1 = df_1.dropna()\n",
    "df_1.isnull().sum()"
   ]
  },
  {
   "cell_type": "code",
   "execution_count": 7,
   "id": "481e1be7",
   "metadata": {},
   "outputs": [
    {
     "data": {
      "text/html": [
       "<div>\n",
       "<style scoped>\n",
       "    .dataframe tbody tr th:only-of-type {\n",
       "        vertical-align: middle;\n",
       "    }\n",
       "\n",
       "    .dataframe tbody tr th {\n",
       "        vertical-align: top;\n",
       "    }\n",
       "\n",
       "    .dataframe thead th {\n",
       "        text-align: right;\n",
       "    }\n",
       "</style>\n",
       "<table border=\"1\" class=\"dataframe\">\n",
       "  <thead>\n",
       "    <tr style=\"text-align: right;\">\n",
       "      <th></th>\n",
       "      <th>Country</th>\n",
       "      <th>EdLevel</th>\n",
       "      <th>YearsCodePro</th>\n",
       "      <th>Employment</th>\n",
       "      <th>Salary</th>\n",
       "    </tr>\n",
       "  </thead>\n",
       "  <tbody>\n",
       "    <tr>\n",
       "      <th>1</th>\n",
       "      <td>United States of America</td>\n",
       "      <td>Bachelor’s degree (B.A., B.S., B.Eng., etc.)</td>\n",
       "      <td>9</td>\n",
       "      <td>Employed, full-time</td>\n",
       "      <td>285000.0</td>\n",
       "    </tr>\n",
       "    <tr>\n",
       "      <th>2</th>\n",
       "      <td>United States of America</td>\n",
       "      <td>Bachelor’s degree (B.A., B.S., B.Eng., etc.)</td>\n",
       "      <td>23</td>\n",
       "      <td>Employed, full-time</td>\n",
       "      <td>250000.0</td>\n",
       "    </tr>\n",
       "    <tr>\n",
       "      <th>3</th>\n",
       "      <td>United States of America</td>\n",
       "      <td>Bachelor’s degree (B.A., B.S., B.Eng., etc.)</td>\n",
       "      <td>7</td>\n",
       "      <td>Employed, full-time</td>\n",
       "      <td>156000.0</td>\n",
       "    </tr>\n",
       "    <tr>\n",
       "      <th>4</th>\n",
       "      <td>Philippines</td>\n",
       "      <td>Bachelor’s degree (B.A., B.S., B.Eng., etc.)</td>\n",
       "      <td>4</td>\n",
       "      <td>Employed, full-time;Independent contractor, fr...</td>\n",
       "      <td>23456.0</td>\n",
       "    </tr>\n",
       "    <tr>\n",
       "      <th>5</th>\n",
       "      <td>United Kingdom of Great Britain and Northern I...</td>\n",
       "      <td>Some college/university study without earning ...</td>\n",
       "      <td>21</td>\n",
       "      <td>Employed, full-time</td>\n",
       "      <td>96828.0</td>\n",
       "    </tr>\n",
       "    <tr>\n",
       "      <th>...</th>\n",
       "      <td>...</td>\n",
       "      <td>...</td>\n",
       "      <td>...</td>\n",
       "      <td>...</td>\n",
       "      <td>...</td>\n",
       "    </tr>\n",
       "    <tr>\n",
       "      <th>89162</th>\n",
       "      <td>Brazil</td>\n",
       "      <td>Master’s degree (M.A., M.S., M.Eng., MBA, etc.)</td>\n",
       "      <td>24</td>\n",
       "      <td>Employed, full-time</td>\n",
       "      <td>50719.0</td>\n",
       "    </tr>\n",
       "    <tr>\n",
       "      <th>89166</th>\n",
       "      <td>Armenia</td>\n",
       "      <td>Some college/university study without earning ...</td>\n",
       "      <td>2</td>\n",
       "      <td>Employed, full-time;Independent contractor, fr...</td>\n",
       "      <td>16917.0</td>\n",
       "    </tr>\n",
       "    <tr>\n",
       "      <th>89167</th>\n",
       "      <td>India</td>\n",
       "      <td>Bachelor’s degree (B.A., B.S., B.Eng., etc.)</td>\n",
       "      <td>2</td>\n",
       "      <td>Employed, full-time</td>\n",
       "      <td>15752.0</td>\n",
       "    </tr>\n",
       "    <tr>\n",
       "      <th>89170</th>\n",
       "      <td>France</td>\n",
       "      <td>Master’s degree (M.A., M.S., M.Eng., MBA, etc.)</td>\n",
       "      <td>9</td>\n",
       "      <td>Employed, full-time</td>\n",
       "      <td>64254.0</td>\n",
       "    </tr>\n",
       "    <tr>\n",
       "      <th>89171</th>\n",
       "      <td>Greece</td>\n",
       "      <td>Master’s degree (M.A., M.S., M.Eng., MBA, etc.)</td>\n",
       "      <td>9</td>\n",
       "      <td>Employed, full-time</td>\n",
       "      <td>61041.0</td>\n",
       "    </tr>\n",
       "  </tbody>\n",
       "</table>\n",
       "<p>47813 rows × 5 columns</p>\n",
       "</div>"
      ],
      "text/plain": [
       "                                                 Country  \\\n",
       "1                               United States of America   \n",
       "2                               United States of America   \n",
       "3                               United States of America   \n",
       "4                                            Philippines   \n",
       "5      United Kingdom of Great Britain and Northern I...   \n",
       "...                                                  ...   \n",
       "89162                                             Brazil   \n",
       "89166                                            Armenia   \n",
       "89167                                              India   \n",
       "89170                                             France   \n",
       "89171                                             Greece   \n",
       "\n",
       "                                                 EdLevel YearsCodePro  \\\n",
       "1           Bachelor’s degree (B.A., B.S., B.Eng., etc.)            9   \n",
       "2           Bachelor’s degree (B.A., B.S., B.Eng., etc.)           23   \n",
       "3           Bachelor’s degree (B.A., B.S., B.Eng., etc.)            7   \n",
       "4           Bachelor’s degree (B.A., B.S., B.Eng., etc.)            4   \n",
       "5      Some college/university study without earning ...           21   \n",
       "...                                                  ...          ...   \n",
       "89162    Master’s degree (M.A., M.S., M.Eng., MBA, etc.)           24   \n",
       "89166  Some college/university study without earning ...            2   \n",
       "89167       Bachelor’s degree (B.A., B.S., B.Eng., etc.)            2   \n",
       "89170    Master’s degree (M.A., M.S., M.Eng., MBA, etc.)            9   \n",
       "89171    Master’s degree (M.A., M.S., M.Eng., MBA, etc.)            9   \n",
       "\n",
       "                                              Employment    Salary  \n",
       "1                                    Employed, full-time  285000.0  \n",
       "2                                    Employed, full-time  250000.0  \n",
       "3                                    Employed, full-time  156000.0  \n",
       "4      Employed, full-time;Independent contractor, fr...   23456.0  \n",
       "5                                    Employed, full-time   96828.0  \n",
       "...                                                  ...       ...  \n",
       "89162                                Employed, full-time   50719.0  \n",
       "89166  Employed, full-time;Independent contractor, fr...   16917.0  \n",
       "89167                                Employed, full-time   15752.0  \n",
       "89170                                Employed, full-time   64254.0  \n",
       "89171                                Employed, full-time   61041.0  \n",
       "\n",
       "[47813 rows x 5 columns]"
      ]
     },
     "execution_count": 7,
     "metadata": {},
     "output_type": "execute_result"
    }
   ],
   "source": [
    "df_1"
   ]
  },
  {
   "cell_type": "code",
   "execution_count": 8,
   "id": "c5c68ed2",
   "metadata": {},
   "outputs": [
    {
     "data": {
      "text/plain": [
       "Employed, full-time                                                                             39155\n",
       "Independent contractor, freelancer, or self-employed                                             3880\n",
       "Employed, full-time;Independent contractor, freelancer, or self-employed                         3282\n",
       "Employed, part-time                                                                               899\n",
       "Independent contractor, freelancer, or self-employed;Employed, part-time                          238\n",
       "Employed, full-time;Employed, part-time                                                           152\n",
       "Employed, full-time;Independent contractor, freelancer, or self-employed;Employed, part-time      109\n",
       "Retired                                                                                            33\n",
       "I prefer not to say                                                                                33\n",
       "Independent contractor, freelancer, or self-employed;Retired                                       16\n",
       "Employed, full-time;Retired                                                                         7\n",
       "Employed, full-time;Independent contractor, freelancer, or self-employed;Retired                    4\n",
       "Employed, part-time;Retired                                                                         3\n",
       "Independent contractor, freelancer, or self-employed;Employed, part-time;Retired                    2\n",
       "Name: Employment, dtype: int64"
      ]
     },
     "execution_count": 8,
     "metadata": {},
     "output_type": "execute_result"
    }
   ],
   "source": [
    "df_1['Employment'].value_counts()"
   ]
  },
  {
   "cell_type": "code",
   "execution_count": 9,
   "id": "8b4adebd",
   "metadata": {},
   "outputs": [
    {
     "data": {
      "text/html": [
       "<div>\n",
       "<style scoped>\n",
       "    .dataframe tbody tr th:only-of-type {\n",
       "        vertical-align: middle;\n",
       "    }\n",
       "\n",
       "    .dataframe tbody tr th {\n",
       "        vertical-align: top;\n",
       "    }\n",
       "\n",
       "    .dataframe thead th {\n",
       "        text-align: right;\n",
       "    }\n",
       "</style>\n",
       "<table border=\"1\" class=\"dataframe\">\n",
       "  <thead>\n",
       "    <tr style=\"text-align: right;\">\n",
       "      <th></th>\n",
       "      <th>Country</th>\n",
       "      <th>EdLevel</th>\n",
       "      <th>YearsCodePro</th>\n",
       "      <th>Employment</th>\n",
       "      <th>Salary</th>\n",
       "    </tr>\n",
       "  </thead>\n",
       "  <tbody>\n",
       "    <tr>\n",
       "      <th>1</th>\n",
       "      <td>United States of America</td>\n",
       "      <td>Bachelor’s degree (B.A., B.S., B.Eng., etc.)</td>\n",
       "      <td>9</td>\n",
       "      <td>Employed, full-time</td>\n",
       "      <td>285000.0</td>\n",
       "    </tr>\n",
       "    <tr>\n",
       "      <th>2</th>\n",
       "      <td>United States of America</td>\n",
       "      <td>Bachelor’s degree (B.A., B.S., B.Eng., etc.)</td>\n",
       "      <td>23</td>\n",
       "      <td>Employed, full-time</td>\n",
       "      <td>250000.0</td>\n",
       "    </tr>\n",
       "    <tr>\n",
       "      <th>3</th>\n",
       "      <td>United States of America</td>\n",
       "      <td>Bachelor’s degree (B.A., B.S., B.Eng., etc.)</td>\n",
       "      <td>7</td>\n",
       "      <td>Employed, full-time</td>\n",
       "      <td>156000.0</td>\n",
       "    </tr>\n",
       "    <tr>\n",
       "      <th>5</th>\n",
       "      <td>United Kingdom of Great Britain and Northern I...</td>\n",
       "      <td>Some college/university study without earning ...</td>\n",
       "      <td>21</td>\n",
       "      <td>Employed, full-time</td>\n",
       "      <td>96828.0</td>\n",
       "    </tr>\n",
       "    <tr>\n",
       "      <th>6</th>\n",
       "      <td>United States of America</td>\n",
       "      <td>Some college/university study without earning ...</td>\n",
       "      <td>3</td>\n",
       "      <td>Employed, full-time</td>\n",
       "      <td>135000.0</td>\n",
       "    </tr>\n",
       "    <tr>\n",
       "      <th>...</th>\n",
       "      <td>...</td>\n",
       "      <td>...</td>\n",
       "      <td>...</td>\n",
       "      <td>...</td>\n",
       "      <td>...</td>\n",
       "    </tr>\n",
       "    <tr>\n",
       "      <th>89160</th>\n",
       "      <td>Mexico</td>\n",
       "      <td>Professional degree (JD, MD, Ph.D, Ed.D, etc.)</td>\n",
       "      <td>5</td>\n",
       "      <td>Employed, full-time</td>\n",
       "      <td>28625.0</td>\n",
       "    </tr>\n",
       "    <tr>\n",
       "      <th>89162</th>\n",
       "      <td>Brazil</td>\n",
       "      <td>Master’s degree (M.A., M.S., M.Eng., MBA, etc.)</td>\n",
       "      <td>24</td>\n",
       "      <td>Employed, full-time</td>\n",
       "      <td>50719.0</td>\n",
       "    </tr>\n",
       "    <tr>\n",
       "      <th>89167</th>\n",
       "      <td>India</td>\n",
       "      <td>Bachelor’s degree (B.A., B.S., B.Eng., etc.)</td>\n",
       "      <td>2</td>\n",
       "      <td>Employed, full-time</td>\n",
       "      <td>15752.0</td>\n",
       "    </tr>\n",
       "    <tr>\n",
       "      <th>89170</th>\n",
       "      <td>France</td>\n",
       "      <td>Master’s degree (M.A., M.S., M.Eng., MBA, etc.)</td>\n",
       "      <td>9</td>\n",
       "      <td>Employed, full-time</td>\n",
       "      <td>64254.0</td>\n",
       "    </tr>\n",
       "    <tr>\n",
       "      <th>89171</th>\n",
       "      <td>Greece</td>\n",
       "      <td>Master’s degree (M.A., M.S., M.Eng., MBA, etc.)</td>\n",
       "      <td>9</td>\n",
       "      <td>Employed, full-time</td>\n",
       "      <td>61041.0</td>\n",
       "    </tr>\n",
       "  </tbody>\n",
       "</table>\n",
       "<p>39155 rows × 5 columns</p>\n",
       "</div>"
      ],
      "text/plain": [
       "                                                 Country  \\\n",
       "1                               United States of America   \n",
       "2                               United States of America   \n",
       "3                               United States of America   \n",
       "5      United Kingdom of Great Britain and Northern I...   \n",
       "6                               United States of America   \n",
       "...                                                  ...   \n",
       "89160                                             Mexico   \n",
       "89162                                             Brazil   \n",
       "89167                                              India   \n",
       "89170                                             France   \n",
       "89171                                             Greece   \n",
       "\n",
       "                                                 EdLevel YearsCodePro  \\\n",
       "1           Bachelor’s degree (B.A., B.S., B.Eng., etc.)            9   \n",
       "2           Bachelor’s degree (B.A., B.S., B.Eng., etc.)           23   \n",
       "3           Bachelor’s degree (B.A., B.S., B.Eng., etc.)            7   \n",
       "5      Some college/university study without earning ...           21   \n",
       "6      Some college/university study without earning ...            3   \n",
       "...                                                  ...          ...   \n",
       "89160     Professional degree (JD, MD, Ph.D, Ed.D, etc.)            5   \n",
       "89162    Master’s degree (M.A., M.S., M.Eng., MBA, etc.)           24   \n",
       "89167       Bachelor’s degree (B.A., B.S., B.Eng., etc.)            2   \n",
       "89170    Master’s degree (M.A., M.S., M.Eng., MBA, etc.)            9   \n",
       "89171    Master’s degree (M.A., M.S., M.Eng., MBA, etc.)            9   \n",
       "\n",
       "                Employment    Salary  \n",
       "1      Employed, full-time  285000.0  \n",
       "2      Employed, full-time  250000.0  \n",
       "3      Employed, full-time  156000.0  \n",
       "5      Employed, full-time   96828.0  \n",
       "6      Employed, full-time  135000.0  \n",
       "...                    ...       ...  \n",
       "89160  Employed, full-time   28625.0  \n",
       "89162  Employed, full-time   50719.0  \n",
       "89167  Employed, full-time   15752.0  \n",
       "89170  Employed, full-time   64254.0  \n",
       "89171  Employed, full-time   61041.0  \n",
       "\n",
       "[39155 rows x 5 columns]"
      ]
     },
     "execution_count": 9,
     "metadata": {},
     "output_type": "execute_result"
    }
   ],
   "source": [
    "df_1 = df_1[df_1['Employment'] == 'Employed, full-time']\n",
    "df_1"
   ]
  },
  {
   "cell_type": "code",
   "execution_count": 10,
   "id": "dd9b1f0f",
   "metadata": {},
   "outputs": [],
   "source": [
    "df_1 = df_1.drop('Employment',axis=1)"
   ]
  },
  {
   "cell_type": "code",
   "execution_count": 11,
   "id": "2d15f0d1",
   "metadata": {
    "scrolled": true
   },
   "outputs": [
    {
     "data": {
      "text/plain": [
       "United States of America                                10569\n",
       "Germany                                                  3201\n",
       "United Kingdom of Great Britain and Northern Ireland     3072\n",
       "Canada                                                   1807\n",
       "India                                                    1600\n",
       "                                                        ...  \n",
       "Botswana                                                    1\n",
       "Sierra Leone                                                1\n",
       "Guyana                                                      1\n",
       "Guinea-Bissau                                               1\n",
       "Antigua and Barbuda                                         1\n",
       "Name: Country, Length: 165, dtype: int64"
      ]
     },
     "execution_count": 11,
     "metadata": {},
     "output_type": "execute_result"
    }
   ],
   "source": [
    "df_1['Country'].value_counts()"
   ]
  },
  {
   "cell_type": "code",
   "execution_count": 12,
   "id": "95d00e01",
   "metadata": {},
   "outputs": [
    {
     "data": {
      "text/plain": [
       "United States of America                                10569\n",
       "Germany                                                  3201\n",
       "United Kingdom of Great Britain and Northern Ireland     3072\n",
       "Canada                                                   1807\n",
       "India                                                    1600\n",
       "                                                        ...  \n",
       "Botswana                                                    1\n",
       "Sierra Leone                                                1\n",
       "Guyana                                                      1\n",
       "Guinea-Bissau                                               1\n",
       "Antigua and Barbuda                                         1\n",
       "Name: Country, Length: 165, dtype: int64"
      ]
     },
     "execution_count": 12,
     "metadata": {},
     "output_type": "execute_result"
    }
   ],
   "source": [
    "df_1['Country'].value_counts()"
   ]
  },
  {
   "cell_type": "code",
   "execution_count": 13,
   "id": "9efcf175",
   "metadata": {},
   "outputs": [],
   "source": [
    "def shorten_categories(categories,cutoff):\n",
    "    categorical_map = {}\n",
    "    for i in range(len(categories)):\n",
    "        if categories.values[i] >= cutoff:\n",
    "            categorical_map[categories.index[i]] = categories.index[i]\n",
    "        else:\n",
    "            categorical_map[categories.index[i]] = 'Other'\n",
    "    return categorical_map"
   ]
  },
  {
   "cell_type": "code",
   "execution_count": 14,
   "id": "63aad977",
   "metadata": {},
   "outputs": [
    {
     "data": {
      "text/plain": [
       "United States of America                                10569\n",
       "Other                                                    9282\n",
       "Germany                                                  3201\n",
       "United Kingdom of Great Britain and Northern Ireland     3072\n",
       "Canada                                                   1807\n",
       "India                                                    1600\n",
       "France                                                   1458\n",
       "Netherlands                                              1002\n",
       "Australia                                                 985\n",
       "Brazil                                                    972\n",
       "Spain                                                     966\n",
       "Sweden                                                    882\n",
       "Italy                                                     826\n",
       "Poland                                                    740\n",
       "Switzerland                                               511\n",
       "Denmark                                                   440\n",
       "Norway                                                    428\n",
       "Israel                                                    414\n",
       "Name: Country, dtype: int64"
      ]
     },
     "execution_count": 14,
     "metadata": {},
     "output_type": "execute_result"
    }
   ],
   "source": [
    "country_map = shorten_categories(df_1.Country.value_counts(),400)\n",
    "df_1['Country'] = df_1['Country'].map(country_map)\n",
    "df_1.Country.value_counts()"
   ]
  },
  {
   "cell_type": "code",
   "execution_count": 15,
   "id": "239e81c9",
   "metadata": {},
   "outputs": [
    {
     "data": {
      "image/png": "[encoded data removed]",
      "text/plain": [
       "<Figure size 1200x700 with 1 Axes>"
      ]
     },
     "metadata": {},
     "output_type": "display_data"
    }
   ],
   "source": [
    "fig, ax = plt.subplots(1,1, figsize=(12,7))\n",
    "df_1.boxplot('Salary', 'Country', ax=ax)\n",
    "plt.title('Salary(US$) v Country')\n",
    "plt.title('')\n",
    "plt.ylabel('Salary')\n",
    "plt.xticks(rotation=90)\n",
    "plt.show()"
   ]
  },
  {
   "cell_type": "code",
   "execution_count": 16,
   "id": "87c2becd",
   "metadata": {},
   "outputs": [
    {
     "data": {
      "text/html": [
       "<div>\n",
       "<style scoped>\n",
       "    .dataframe tbody tr th:only-of-type {\n",
       "        vertical-align: middle;\n",
       "    }\n",
       "\n",
       "    .dataframe tbody tr th {\n",
       "        vertical-align: top;\n",
       "    }\n",
       "\n",
       "    .dataframe thead th {\n",
       "        text-align: right;\n",
       "    }\n",
       "</style>\n",
       "<table border=\"1\" class=\"dataframe\">\n",
       "  <thead>\n",
       "    <tr style=\"text-align: right;\">\n",
       "      <th></th>\n",
       "      <th>Country</th>\n",
       "      <th>EdLevel</th>\n",
       "      <th>YearsCodePro</th>\n",
       "      <th>Salary</th>\n",
       "    </tr>\n",
       "  </thead>\n",
       "  <tbody>\n",
       "    <tr>\n",
       "      <th>2</th>\n",
       "      <td>United States of America</td>\n",
       "      <td>Bachelor’s degree (B.A., B.S., B.Eng., etc.)</td>\n",
       "      <td>23</td>\n",
       "      <td>250000.0</td>\n",
       "    </tr>\n",
       "    <tr>\n",
       "      <th>3</th>\n",
       "      <td>United States of America</td>\n",
       "      <td>Bachelor’s degree (B.A., B.S., B.Eng., etc.)</td>\n",
       "      <td>7</td>\n",
       "      <td>156000.0</td>\n",
       "    </tr>\n",
       "    <tr>\n",
       "      <th>5</th>\n",
       "      <td>United Kingdom of Great Britain and Northern I...</td>\n",
       "      <td>Some college/university study without earning ...</td>\n",
       "      <td>21</td>\n",
       "      <td>96828.0</td>\n",
       "    </tr>\n",
       "    <tr>\n",
       "      <th>6</th>\n",
       "      <td>United States of America</td>\n",
       "      <td>Some college/university study without earning ...</td>\n",
       "      <td>3</td>\n",
       "      <td>135000.0</td>\n",
       "    </tr>\n",
       "    <tr>\n",
       "      <th>7</th>\n",
       "      <td>United States of America</td>\n",
       "      <td>Bachelor’s degree (B.A., B.S., B.Eng., etc.)</td>\n",
       "      <td>3</td>\n",
       "      <td>80000.0</td>\n",
       "    </tr>\n",
       "    <tr>\n",
       "      <th>...</th>\n",
       "      <td>...</td>\n",
       "      <td>...</td>\n",
       "      <td>...</td>\n",
       "      <td>...</td>\n",
       "    </tr>\n",
       "    <tr>\n",
       "      <th>89156</th>\n",
       "      <td>United States of America</td>\n",
       "      <td>Bachelor’s degree (B.A., B.S., B.Eng., etc.)</td>\n",
       "      <td>8</td>\n",
       "      <td>195000.0</td>\n",
       "    </tr>\n",
       "    <tr>\n",
       "      <th>89158</th>\n",
       "      <td>Sweden</td>\n",
       "      <td>Bachelor’s degree (B.A., B.S., B.Eng., etc.)</td>\n",
       "      <td>8</td>\n",
       "      <td>52981.0</td>\n",
       "    </tr>\n",
       "    <tr>\n",
       "      <th>89162</th>\n",
       "      <td>Brazil</td>\n",
       "      <td>Master’s degree (M.A., M.S., M.Eng., MBA, etc.)</td>\n",
       "      <td>24</td>\n",
       "      <td>50719.0</td>\n",
       "    </tr>\n",
       "    <tr>\n",
       "      <th>89167</th>\n",
       "      <td>India</td>\n",
       "      <td>Bachelor’s degree (B.A., B.S., B.Eng., etc.)</td>\n",
       "      <td>2</td>\n",
       "      <td>15752.0</td>\n",
       "    </tr>\n",
       "    <tr>\n",
       "      <th>89170</th>\n",
       "      <td>France</td>\n",
       "      <td>Master’s degree (M.A., M.S., M.Eng., MBA, etc.)</td>\n",
       "      <td>9</td>\n",
       "      <td>64254.0</td>\n",
       "    </tr>\n",
       "  </tbody>\n",
       "</table>\n",
       "<p>27716 rows × 4 columns</p>\n",
       "</div>"
      ],
      "text/plain": [
       "                                                 Country  \\\n",
       "2                               United States of America   \n",
       "3                               United States of America   \n",
       "5      United Kingdom of Great Britain and Northern I...   \n",
       "6                               United States of America   \n",
       "7                               United States of America   \n",
       "...                                                  ...   \n",
       "89156                           United States of America   \n",
       "89158                                             Sweden   \n",
       "89162                                             Brazil   \n",
       "89167                                              India   \n",
       "89170                                             France   \n",
       "\n",
       "                                                 EdLevel YearsCodePro  \\\n",
       "2           Bachelor’s degree (B.A., B.S., B.Eng., etc.)           23   \n",
       "3           Bachelor’s degree (B.A., B.S., B.Eng., etc.)            7   \n",
       "5      Some college/university study without earning ...           21   \n",
       "6      Some college/university study without earning ...            3   \n",
       "7           Bachelor’s degree (B.A., B.S., B.Eng., etc.)            3   \n",
       "...                                                  ...          ...   \n",
       "89156       Bachelor’s degree (B.A., B.S., B.Eng., etc.)            8   \n",
       "89158       Bachelor’s degree (B.A., B.S., B.Eng., etc.)            8   \n",
       "89162    Master’s degree (M.A., M.S., M.Eng., MBA, etc.)           24   \n",
       "89167       Bachelor’s degree (B.A., B.S., B.Eng., etc.)            2   \n",
       "89170    Master’s degree (M.A., M.S., M.Eng., MBA, etc.)            9   \n",
       "\n",
       "         Salary  \n",
       "2      250000.0  \n",
       "3      156000.0  \n",
       "5       96828.0  \n",
       "6      135000.0  \n",
       "7       80000.0  \n",
       "...         ...  \n",
       "89156  195000.0  \n",
       "89158   52981.0  \n",
       "89162   50719.0  \n",
       "89167   15752.0  \n",
       "89170   64254.0  \n",
       "\n",
       "[27716 rows x 4 columns]"
      ]
     },
     "execution_count": 16,
     "metadata": {},
     "output_type": "execute_result"
    }
   ],
   "source": [
    "df_1 = df_1[df_1['Salary'] <= 250000]\n",
    "df_1 = df_1[df_1['Salary'] >= 10000]\n",
    "df_1 = df_1[df_1['Country'] != 'Other']\n",
    "df_1"
   ]
  },
  {
   "cell_type": "code",
   "execution_count": 17,
   "id": "e1461434",
   "metadata": {},
   "outputs": [
    {
     "data": {
      "image/png": "[encoded data removed]",
      "text/plain": [
       "<Figure size 1200x700 with 1 Axes>"
      ]
     },
     "metadata": {},
     "output_type": "display_data"
    }
   ],
   "source": [
    "fig, ax = plt.subplots(1,1, figsize=(12,7))\n",
    "df_1.boxplot('Salary', 'Country', ax=ax)\n",
    "plt.title('Salary(US$) v Country')\n",
    "plt.title('')\n",
    "plt.ylabel('Salary')\n",
    "plt.xticks(rotation=90)\n",
    "plt.show()"
   ]
  },
  {
   "cell_type": "code",
   "execution_count": 18,
   "id": "5ab407d1",
   "metadata": {},
   "outputs": [
    {
     "data": {
      "text/plain": [
       "array(['23', '7', '21', '3', '9', 'Less than 1 year', '10', '2', '6',\n",
       "       '14', '5', '15', '19', '13', '16', '28', '24', '25', '12', '4',\n",
       "       '20', '8', '18', '30', '27', '17', '43', '38', '33', '29', '22',\n",
       "       '1', '11', '34', '42', '26', '31', '36', '39', '40', '32', '44',\n",
       "       '37', '35', '48', 'More than 50 years', '45', '41', '50', '46',\n",
       "       '49', '47'], dtype=object)"
      ]
     },
     "execution_count": 18,
     "metadata": {},
     "output_type": "execute_result"
    }
   ],
   "source": [
    "df_1['YearsCodePro'].unique()"
   ]
  },
  {
   "cell_type": "code",
   "execution_count": 19,
   "id": "f7ca340e",
   "metadata": {},
   "outputs": [],
   "source": [
    "def clean_experience(x):\n",
    "    if x == 'More than 50 years':\n",
    "        return 50\n",
    "    if x == 'Less than 1 year':\n",
    "        return 0.5\n",
    "    return float(x)"
   ]
  },
  {
   "cell_type": "code",
   "execution_count": 20,
   "id": "15191f5f",
   "metadata": {},
   "outputs": [],
   "source": [
    "df_1['YearsCodePro'] = df_1['YearsCodePro'].apply(clean_experience)"
   ]
  },
  {
   "cell_type": "code",
   "execution_count": 21,
   "id": "97259dcf",
   "metadata": {},
   "outputs": [
    {
     "data": {
      "text/plain": [
       "array(['Bachelor’s degree (B.A., B.S., B.Eng., etc.)',\n",
       "       'Some college/university study without earning a degree',\n",
       "       'Master’s degree (M.A., M.S., M.Eng., MBA, etc.)',\n",
       "       'Professional degree (JD, MD, Ph.D, Ed.D, etc.)',\n",
       "       'Associate degree (A.A., A.S., etc.)',\n",
       "       'Secondary school (e.g. American high school, German Realschule or Gymnasium, etc.)',\n",
       "       'Primary/elementary school', 'Something else'], dtype=object)"
      ]
     },
     "execution_count": 21,
     "metadata": {},
     "output_type": "execute_result"
    }
   ],
   "source": [
    "df_1['EdLevel'].unique()"
   ]
  },
  {
   "cell_type": "code",
   "execution_count": 22,
   "id": "202bbaba",
   "metadata": {},
   "outputs": [],
   "source": [
    "def clean_education(x):\n",
    "    if 'Bachelor’s degree' in x:\n",
    "        return 'Bachelor’s degree'\n",
    "    if 'Master’s degree' in x:\n",
    "        return 'Master’s degree'\n",
    "    if 'Professional degree' in x:\n",
    "        return 'Post grad'\n",
    "    return 'Less than a Bachelors'"
   ]
  },
  {
   "cell_type": "code",
   "execution_count": 23,
   "id": "1154ba4d",
   "metadata": {},
   "outputs": [],
   "source": [
    "df_1['EdLevel'] = df_1['EdLevel'].apply(clean_education)"
   ]
  },
  {
   "cell_type": "code",
   "execution_count": 24,
   "id": "935e39da",
   "metadata": {},
   "outputs": [
    {
     "data": {
      "text/plain": [
       "array(['Bachelor’s degree', 'Less than a Bachelors', 'Master’s degree',\n",
       "       'Post grad'], dtype=object)"
      ]
     },
     "execution_count": 24,
     "metadata": {},
     "output_type": "execute_result"
    }
   ],
   "source": [
    "df_1['EdLevel'].unique()"
   ]
  },
  {
   "cell_type": "code",
   "execution_count": 25,
   "id": "6de5d575",
   "metadata": {},
   "outputs": [
    {
     "data": {
      "text/plain": [
       "array([0, 1, 2, 3])"
      ]
     },
     "execution_count": 25,
     "metadata": {},
     "output_type": "execute_result"
    }
   ],
   "source": [
    "from sklearn.preprocessing import LabelEncoder\n",
    "le_education = LabelEncoder()\n",
    "df_1['EdLevel'] = le_education.fit_transform(df_1['EdLevel'])\n",
    "df_1['EdLevel'].unique()"
   ]
  },
  {
   "cell_type": "code",
   "execution_count": 26,
   "id": "c54c78f4",
   "metadata": {},
   "outputs": [
    {
     "data": {
      "text/plain": [
       "array([16, 15,  0,  9,  5, 13,  4, 12,  1,  8,  2, 14,  6, 10,  3,  7, 11])"
      ]
     },
     "execution_count": 26,
     "metadata": {},
     "output_type": "execute_result"
    }
   ],
   "source": [
    "le_country = LabelEncoder()\n",
    "df_1['Country'] = le_country.fit_transform(df_1['Country'])\n",
    "df_1['Country'].unique()"
   ]
  },
  {
   "cell_type": "code",
   "execution_count": 27,
   "id": "426012fa",
   "metadata": {},
   "outputs": [],
   "source": [
    "X = df_1.drop('Salary', axis=1)\n",
    "y = df_1['Salary']"
   ]
  },
  {
   "cell_type": "code",
   "execution_count": 28,
   "id": "038d3cab",
   "metadata": {},
   "outputs": [
    {
     "data": {
      "text/plain": [
       "LinearRegression()"
      ]
     },
     "execution_count": 28,
     "metadata": {},
     "output_type": "execute_result"
    }
   ],
   "source": [
    "from sklearn.linear_model import LinearRegression\n",
    "linear_reg = LinearRegression()\n",
    "linear_reg.fit(X,y.values)"
   ]
  },
  {
   "cell_type": "code",
   "execution_count": 29,
   "id": "aa5c4a83",
   "metadata": {},
   "outputs": [],
   "source": [
    "y_pred = linear_reg.predict(X)"
   ]
  },
  {
   "cell_type": "code",
   "execution_count": 30,
   "id": "e40c0397",
   "metadata": {},
   "outputs": [],
   "source": [
    "from sklearn.metrics import mean_squared_error, mean_absolute_error\n",
    "import numpy as np\n",
    "error = np.sqrt(mean_squared_error(y,y_pred))"
   ]
  },
  {
   "cell_type": "code",
   "execution_count": 31,
   "id": "86a1b290",
   "metadata": {},
   "outputs": [
    {
     "data": {
      "text/plain": [
       "46082.71046497013"
      ]
     },
     "execution_count": 31,
     "metadata": {},
     "output_type": "execute_result"
    }
   ],
   "source": [
    "error"
   ]
  },
  {
   "cell_type": "code",
   "execution_count": 32,
   "id": "375f2cdb",
   "metadata": {},
   "outputs": [
    {
     "data": {
      "text/plain": [
       "DecisionTreeRegressor(random_state=0)"
      ]
     },
     "execution_count": 32,
     "metadata": {},
     "output_type": "execute_result"
    }
   ],
   "source": [
    "from sklearn.tree import DecisionTreeRegressor\n",
    "dec_tree_reg = DecisionTreeRegressor(random_state=0)\n",
    "dec_tree_reg.fit(X, y.values)"
   ]
  },
  {
   "cell_type": "code",
   "execution_count": 33,
   "id": "ddec64ee",
   "metadata": {},
   "outputs": [],
   "source": [
    "y_pred = dec_tree_reg.predict(X)"
   ]
  },
  {
   "cell_type": "code",
   "execution_count": 34,
   "id": "a843437b",
   "metadata": {},
   "outputs": [
    {
     "name": "stdout",
     "output_type": "stream",
     "text": [
      "$33,748.85\n"
     ]
    }
   ],
   "source": [
    "error = np.sqrt(mean_squared_error(y,y_pred))\n",
    "print('${:,.02f}'.format(error))"
   ]
  },
  {
   "cell_type": "code",
   "execution_count": 35,
   "id": "daba82cb",
   "metadata": {},
   "outputs": [
    {
     "data": {
      "text/plain": [
       "RandomForestRegressor(random_state=0)"
      ]
     },
     "execution_count": 35,
     "metadata": {},
     "output_type": "execute_result"
    }
   ],
   "source": [
    "from sklearn.ensemble import RandomForestRegressor\n",
    "random_forest_reg = RandomForestRegressor(random_state=0)\n",
    "random_forest_reg.fit(X,y.values)"
   ]
  },
  {
   "cell_type": "code",
   "execution_count": 36,
   "id": "6a916f47",
   "metadata": {},
   "outputs": [],
   "source": [
    "y_pred = random_forest_reg.predict(X)"
   ]
  },
  {
   "cell_type": "code",
   "execution_count": 37,
   "id": "2fe56240",
   "metadata": {},
   "outputs": [
    {
     "name": "stdout",
     "output_type": "stream",
     "text": [
      "$33,818.22\n"
     ]
    }
   ],
   "source": [
    "error = np.sqrt(mean_squared_error(y,y_pred))\n",
    "print('${:,.02f}'.format(error))"
   ]
  },
  {
   "cell_type": "code",
   "execution_count": 38,
   "id": "2ac7fc22",
   "metadata": {},
   "outputs": [
    {
     "data": {
      "text/plain": [
       "GridSearchCV(estimator=DecisionTreeRegressor(random_state=0),\n",
       "             param_grid={'max_depth': [None, 2, 3, 6, 8, 10, 12]},\n",
       "             scoring='neg_mean_squared_error')"
      ]
     },
     "execution_count": 38,
     "metadata": {},
     "output_type": "execute_result"
    }
   ],
   "source": [
    "from sklearn.model_selection import GridSearchCV\n",
    "\n",
    "max_depth = [None, 2,3,6,8,10,12]\n",
    "parameters = {'max_depth':max_depth}\n",
    "\n",
    "regressor = DecisionTreeRegressor(random_state=0)\n",
    "gs = GridSearchCV(regressor, parameters, scoring='neg_mean_squared_error')\n",
    "gs.fit(X,y.values)"
   ]
  },
  {
   "cell_type": "code",
   "execution_count": 39,
   "id": "9759943e",
   "metadata": {},
   "outputs": [
    {
     "name": "stdout",
     "output_type": "stream",
     "text": [
      "$34,647.64\n"
     ]
    }
   ],
   "source": [
    "regressor = gs.best_estimator_\n",
    "\n",
    "regressor.fit(X,y.values)\n",
    "y_pred = regressor.predict(X)\n",
    "error = np.sqrt(mean_squared_error(y,y_pred))\n",
    "print('${:,.02f}'.format(error))"
   ]
  },
  {
   "cell_type": "code",
   "execution_count": 40,
   "id": "9d037e96",
   "metadata": {},
   "outputs": [
    {
     "data": {
      "text/html": [
       "<div>\n",
       "<style scoped>\n",
       "    .dataframe tbody tr th:only-of-type {\n",
       "        vertical-align: middle;\n",
       "    }\n",
       "\n",
       "    .dataframe tbody tr th {\n",
       "        vertical-align: top;\n",
       "    }\n",
       "\n",
       "    .dataframe thead th {\n",
       "        text-align: right;\n",
       "    }\n",
       "</style>\n",
       "<table border=\"1\" class=\"dataframe\">\n",
       "  <thead>\n",
       "    <tr style=\"text-align: right;\">\n",
       "      <th></th>\n",
       "      <th>Country</th>\n",
       "      <th>EdLevel</th>\n",
       "      <th>YearsCodePro</th>\n",
       "    </tr>\n",
       "  </thead>\n",
       "  <tbody>\n",
       "    <tr>\n",
       "      <th>2</th>\n",
       "      <td>16</td>\n",
       "      <td>0</td>\n",
       "      <td>23.0</td>\n",
       "    </tr>\n",
       "    <tr>\n",
       "      <th>3</th>\n",
       "      <td>16</td>\n",
       "      <td>0</td>\n",
       "      <td>7.0</td>\n",
       "    </tr>\n",
       "    <tr>\n",
       "      <th>5</th>\n",
       "      <td>15</td>\n",
       "      <td>1</td>\n",
       "      <td>21.0</td>\n",
       "    </tr>\n",
       "    <tr>\n",
       "      <th>6</th>\n",
       "      <td>16</td>\n",
       "      <td>1</td>\n",
       "      <td>3.0</td>\n",
       "    </tr>\n",
       "    <tr>\n",
       "      <th>7</th>\n",
       "      <td>16</td>\n",
       "      <td>0</td>\n",
       "      <td>3.0</td>\n",
       "    </tr>\n",
       "    <tr>\n",
       "      <th>...</th>\n",
       "      <td>...</td>\n",
       "      <td>...</td>\n",
       "      <td>...</td>\n",
       "    </tr>\n",
       "    <tr>\n",
       "      <th>89156</th>\n",
       "      <td>16</td>\n",
       "      <td>0</td>\n",
       "      <td>8.0</td>\n",
       "    </tr>\n",
       "    <tr>\n",
       "      <th>89158</th>\n",
       "      <td>13</td>\n",
       "      <td>0</td>\n",
       "      <td>8.0</td>\n",
       "    </tr>\n",
       "    <tr>\n",
       "      <th>89162</th>\n",
       "      <td>1</td>\n",
       "      <td>2</td>\n",
       "      <td>24.0</td>\n",
       "    </tr>\n",
       "    <tr>\n",
       "      <th>89167</th>\n",
       "      <td>6</td>\n",
       "      <td>0</td>\n",
       "      <td>2.0</td>\n",
       "    </tr>\n",
       "    <tr>\n",
       "      <th>89170</th>\n",
       "      <td>4</td>\n",
       "      <td>2</td>\n",
       "      <td>9.0</td>\n",
       "    </tr>\n",
       "  </tbody>\n",
       "</table>\n",
       "<p>27716 rows × 3 columns</p>\n",
       "</div>"
      ],
      "text/plain": [
       "       Country  EdLevel  YearsCodePro\n",
       "2           16        0          23.0\n",
       "3           16        0           7.0\n",
       "5           15        1          21.0\n",
       "6           16        1           3.0\n",
       "7           16        0           3.0\n",
       "...        ...      ...           ...\n",
       "89156       16        0           8.0\n",
       "89158       13        0           8.0\n",
       "89162        1        2          24.0\n",
       "89167        6        0           2.0\n",
       "89170        4        2           9.0\n",
       "\n",
       "[27716 rows x 3 columns]"
      ]
     },
     "execution_count": 40,
     "metadata": {},
     "output_type": "execute_result"
    }
   ],
   "source": [
    "X"
   ]
  },
  {
   "cell_type": "code",
   "execution_count": 41,
   "id": "4e6c0f82",
   "metadata": {},
   "outputs": [
    {
     "data": {
      "text/plain": [
       "array([['United States of America', 'Master’s degree', '15']],\n",
       "      dtype='<U24')"
      ]
     },
     "execution_count": 41,
     "metadata": {},
     "output_type": "execute_result"
    }
   ],
   "source": [
    "# Testing\n",
    "X = np.array([['United States of America','Master’s degree', 15]])\n",
    "X"
   ]
  },
  {
   "cell_type": "code",
   "execution_count": 42,
   "id": "a52d98e7",
   "metadata": {},
   "outputs": [
    {
     "data": {
      "text/plain": [
       "array([[16.,  2., 15.]])"
      ]
     },
     "execution_count": 42,
     "metadata": {},
     "output_type": "execute_result"
    }
   ],
   "source": [
    "X[:,0] = le_country.transform(X[:,0])\n",
    "X[:,1] = le_education.transform(X[:,1])\n",
    "X = X.astype(float)\n",
    "X"
   ]
  },
  {
   "cell_type": "code",
   "execution_count": 43,
   "id": "5513cee6",
   "metadata": {},
   "outputs": [
    {
     "name": "stderr",
     "output_type": "stream",
     "text": [
      "C:\\Users\\66910\\anaconda3\\lib\\site-packages\\sklearn\\base.py:450: UserWarning: X does not have valid feature names, but DecisionTreeRegressor was fitted with feature names\n",
      "  warnings.warn(\n"
     ]
    },
    {
     "data": {
      "text/plain": [
       "array([171952.90990991])"
      ]
     },
     "execution_count": 43,
     "metadata": {},
     "output_type": "execute_result"
    }
   ],
   "source": [
    "y_pred = regressor.predict(X)\n",
    "y_pred"
   ]
  },
  {
   "cell_type": "code",
   "execution_count": 44,
   "id": "dd612749",
   "metadata": {},
   "outputs": [],
   "source": [
    "import pickle"
   ]
  },
  {
   "cell_type": "code",
   "execution_count": 45,
   "id": "3e990368",
   "metadata": {},
   "outputs": [],
   "source": [
    "data = {'model':regressor, 'le_country':le_country,\n",
    "       'le_education':le_education}\n",
    "with open('saved_steps.pkl','wb') as file:\n",
    "    pickle.dump(data,file)"
   ]
  },
  {
   "cell_type": "code",
   "execution_count": 46,
   "id": "2658a580",
   "metadata": {},
   "outputs": [],
   "source": [
    "with open('saved_steps.pkl', 'rb') as file:\n",
    "    data = pickle.load(file)\n",
    "    \n",
    "regressor_loaded = data['model']\n",
    "le_country = data['le_country']\n",
    "le_education = data['le_education']"
   ]
  },
  {
   "cell_type": "code",
   "execution_count": 47,
   "id": "e94ca9ad",
   "metadata": {},
   "outputs": [
    {
     "name": "stderr",
     "output_type": "stream",
     "text": [
      "C:\\Users\\66910\\anaconda3\\lib\\site-packages\\sklearn\\base.py:450: UserWarning: X does not have valid feature names, but DecisionTreeRegressor was fitted with feature names\n",
      "  warnings.warn(\n"
     ]
    },
    {
     "data": {
      "text/plain": [
       "array([171952.90990991])"
      ]
     },
     "execution_count": 47,
     "metadata": {},
     "output_type": "execute_result"
    }
   ],
   "source": [
    "y_pred = regressor_loaded.predict(X)\n",
    "y_pred"
   ]
  },
  {
   "cell_type": "code",
   "execution_count": null,
   "id": "361eefc9",
   "metadata": {},
   "outputs": [],
   "source": []
  }
 ],
 "metadata": {
  "kernelspec": {
   "display_name": "Python 3 (ipykernel)",
   "language": "python",
   "name": "python3"
  },
  "language_info": {
   "codemirror_mode": {
    "name": "ipython",
    "version": 3
   },
   "file_extension": ".py",
   "mimetype": "text/x-python",
   "name": "python",
   "nbconvert_exporter": "python",
   "pygments_lexer": "ipython3",
   "version": "3.9.13"
  }
 },
 "nbformat": 4,
 "nbformat_minor": 5
}
